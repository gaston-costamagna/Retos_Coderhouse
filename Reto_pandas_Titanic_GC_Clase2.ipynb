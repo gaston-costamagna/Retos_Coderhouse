{
  "nbformat": 4,
  "nbformat_minor": 0,
  "metadata": {
    "colab": {
      "provenance": [],
      "collapsed_sections": [],
      "include_colab_link": true
    },
    "kernelspec": {
      "name": "python3",
      "display_name": "Python 3"
    },
    "language_info": {
      "name": "python"
    }
  },
  "cells": [
    {
      "cell_type": "markdown",
      "metadata": {
        "id": "view-in-github",
        "colab_type": "text"
      },
      "source": [
        "<a href=\"https://colab.research.google.com/github/gaston-costamagna/Retos_Coderhouse/blob/main/Reto_pandas_Titanic_GC_Clase2.ipynb\" target=\"_parent\"><img src=\"https://colab.research.google.com/assets/colab-badge.svg\" alt=\"Open In Colab\"/></a>"
      ]
    },
    {
      "cell_type": "markdown",
      "source": [
        "\n",
        "\n",
        "## Reto Número 1.\n",
        "\n",
        "Hola te doy la bienvenida a tu reto, recuerda que:\n",
        "1.\tDebes realizar una copia de este Colab en tu Drive personal.\n",
        "2.\tResuelve el reto en la copia que realizaste.\n",
        "3.\tEnvía la liga pública de tu reto resuelto a través del canal general.\n",
        "\n",
        "Realiza lo siguiente:\n",
        "\n",
        "1) Sube el [archivo] proporcionado a Google Colab (como se muestra en la imagen) y cargalo con la importación de numpy\n",
        "\n",
        "![importar archivos.png](data:image/png;base64,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)\n",
        "\n",
        "2) Examina de qué tipo arreglo es y su dimensión.\n",
        "\n",
        "3) De la primera columna, usa toda las funciones de agregación vistas en clase: sum, min, cumsum, etc.\n",
        "\n",
        "Tip: Para seleccionar el primer arreglo de un arreglo 2D , se usa: A[:,0], donde \":\" significa tomar todos los elementos del arreglo y el segundo parámetro significa que sea del primer arreglo. Recordando que el conteo siempre inicia desde 0, por lo tanto 0 es el primer elemento y 1 es el segundo, y así sucesivamente. \n",
        "\n",
        "¡Cuidado! Revisa como se usa correctamente la función de mediana [ejemplo](https://numpy.org/doc/stable/reference/generated/numpy.median.html)"
      ],
      "metadata": {
        "id": "XiDwxEd4-3nJ"
      }
    },
    {
      "cell_type": "code",
      "source": [
        "from google.colab import drive\n",
        "drive.mount('/content/drive')"
      ],
      "metadata": {
        "colab": {
          "base_uri": "https://localhost:8080/"
        },
        "id": "Bmyv3lbFO37R",
        "outputId": "ba60c871-9cfe-4803-d58a-6f7cd6bbac88"
      },
      "execution_count": null,
      "outputs": [
        {
          "output_type": "stream",
          "name": "stdout",
          "text": [
            "Mounted at /content/drive\n"
          ]
        }
      ]
    },
    {
      "cell_type": "markdown",
      "source": [],
      "metadata": {
        "id": "yr6ywp_x7Lt-"
      }
    },
    {
      "cell_type": "code",
      "source": [
        "import pandas as pd\n",
        "\n",
        "df = pd.read_csv(\"/content/drive/MyDrive/Data_Scientist/titanic.csv\")"
      ],
      "metadata": {
        "id": "oJh3GgmaqrP2"
      },
      "execution_count": null,
      "outputs": []
    },
    {
      "cell_type": "code",
      "source": [
        "# 1 \n",
        "df.tail(10)"
      ],
      "metadata": {
        "id": "NGWEsoo1IZke",
        "colab": {
          "base_uri": "https://localhost:8080/",
          "height": 895
        },
        "outputId": "264ee43a-8732-46e3-a2a8-1549a91640e0"
      },
      "execution_count": null,
      "outputs": [
        {
          "output_type": "execute_result",
          "data": {
            "text/plain": [
              "     PassengerId  Survived  Pclass                                      Name  \\\n",
              "881          882         0       3                        Markun, Mr. Johann   \n",
              "882          883         0       3              Dahlberg, Miss. Gerda Ulrika   \n",
              "883          884         0       2             Banfield, Mr. Frederick James   \n",
              "884          885         0       3                    Sutehall, Mr. Henry Jr   \n",
              "885          886         0       3      Rice, Mrs. William (Margaret Norton)   \n",
              "886          887         0       2                     Montvila, Rev. Juozas   \n",
              "887          888         1       1              Graham, Miss. Margaret Edith   \n",
              "888          889         0       3  Johnston, Miss. Catherine Helen \"Carrie\"   \n",
              "889          890         1       1                     Behr, Mr. Karl Howell   \n",
              "890          891         0       3                       Dooley, Mr. Patrick   \n",
              "\n",
              "        Sex   Age  SibSp  Parch            Ticket     Fare Cabin Embarked  \n",
              "881    male  33.0      0      0            349257   7.8958   NaN        S  \n",
              "882  female  22.0      0      0              7552  10.5167   NaN        S  \n",
              "883    male  28.0      0      0  C.A./SOTON 34068  10.5000   NaN        S  \n",
              "884    male  25.0      0      0   SOTON/OQ 392076   7.0500   NaN        S  \n",
              "885  female  39.0      0      5            382652  29.1250   NaN        Q  \n",
              "886    male  27.0      0      0            211536  13.0000   NaN        S  \n",
              "887  female  19.0      0      0            112053  30.0000   B42        S  \n",
              "888  female   NaN      1      2        W./C. 6607  23.4500   NaN        S  \n",
              "889    male  26.0      0      0            111369  30.0000  C148        C  \n",
              "890    male  32.0      0      0            370376   7.7500   NaN        Q  "
            ],
            "text/html": [
              "\n",
              "  <div id=\"df-87514c3e-fd51-4e33-8bf7-3ac3546882b4\">\n",
              "    <div class=\"colab-df-container\">\n",
              "      <div>\n",
              "<style scoped>\n",
              "    .dataframe tbody tr th:only-of-type {\n",
              "        vertical-align: middle;\n",
              "    }\n",
              "\n",
              "    .dataframe tbody tr th {\n",
              "        vertical-align: top;\n",
              "    }\n",
              "\n",
              "    .dataframe thead th {\n",
              "        text-align: right;\n",
              "    }\n",
              "</style>\n",
              "<table border=\"1\" class=\"dataframe\">\n",
              "  <thead>\n",
              "    <tr style=\"text-align: right;\">\n",
              "      <th></th>\n",
              "      <th>PassengerId</th>\n",
              "      <th>Survived</th>\n",
              "      <th>Pclass</th>\n",
              "      <th>Name</th>\n",
              "      <th>Sex</th>\n",
              "      <th>Age</th>\n",
              "      <th>SibSp</th>\n",
              "      <th>Parch</th>\n",
              "      <th>Ticket</th>\n",
              "      <th>Fare</th>\n",
              "      <th>Cabin</th>\n",
              "      <th>Embarked</th>\n",
              "    </tr>\n",
              "  </thead>\n",
              "  <tbody>\n",
              "    <tr>\n",
              "      <th>881</th>\n",
              "      <td>882</td>\n",
              "      <td>0</td>\n",
              "      <td>3</td>\n",
              "      <td>Markun, Mr. Johann</td>\n",
              "      <td>male</td>\n",
              "      <td>33.0</td>\n",
              "      <td>0</td>\n",
              "      <td>0</td>\n",
              "      <td>349257</td>\n",
              "      <td>7.8958</td>\n",
              "      <td>NaN</td>\n",
              "      <td>S</td>\n",
              "    </tr>\n",
              "    <tr>\n",
              "      <th>882</th>\n",
              "      <td>883</td>\n",
              "      <td>0</td>\n",
              "      <td>3</td>\n",
              "      <td>Dahlberg, Miss. Gerda Ulrika</td>\n",
              "      <td>female</td>\n",
              "      <td>22.0</td>\n",
              "      <td>0</td>\n",
              "      <td>0</td>\n",
              "      <td>7552</td>\n",
              "      <td>10.5167</td>\n",
              "      <td>NaN</td>\n",
              "      <td>S</td>\n",
              "    </tr>\n",
              "    <tr>\n",
              "      <th>883</th>\n",
              "      <td>884</td>\n",
              "      <td>0</td>\n",
              "      <td>2</td>\n",
              "      <td>Banfield, Mr. Frederick James</td>\n",
              "      <td>male</td>\n",
              "      <td>28.0</td>\n",
              "      <td>0</td>\n",
              "      <td>0</td>\n",
              "      <td>C.A./SOTON 34068</td>\n",
              "      <td>10.5000</td>\n",
              "      <td>NaN</td>\n",
              "      <td>S</td>\n",
              "    </tr>\n",
              "    <tr>\n",
              "      <th>884</th>\n",
              "      <td>885</td>\n",
              "      <td>0</td>\n",
              "      <td>3</td>\n",
              "      <td>Sutehall, Mr. Henry Jr</td>\n",
              "      <td>male</td>\n",
              "      <td>25.0</td>\n",
              "      <td>0</td>\n",
              "      <td>0</td>\n",
              "      <td>SOTON/OQ 392076</td>\n",
              "      <td>7.0500</td>\n",
              "      <td>NaN</td>\n",
              "      <td>S</td>\n",
              "    </tr>\n",
              "    <tr>\n",
              "      <th>885</th>\n",
              "      <td>886</td>\n",
              "      <td>0</td>\n",
              "      <td>3</td>\n",
              "      <td>Rice, Mrs. William (Margaret Norton)</td>\n",
              "      <td>female</td>\n",
              "      <td>39.0</td>\n",
              "      <td>0</td>\n",
              "      <td>5</td>\n",
              "      <td>382652</td>\n",
              "      <td>29.1250</td>\n",
              "      <td>NaN</td>\n",
              "      <td>Q</td>\n",
              "    </tr>\n",
              "    <tr>\n",
              "      <th>886</th>\n",
              "      <td>887</td>\n",
              "      <td>0</td>\n",
              "      <td>2</td>\n",
              "      <td>Montvila, Rev. Juozas</td>\n",
              "      <td>male</td>\n",
              "      <td>27.0</td>\n",
              "      <td>0</td>\n",
              "      <td>0</td>\n",
              "      <td>211536</td>\n",
              "      <td>13.0000</td>\n",
              "      <td>NaN</td>\n",
              "      <td>S</td>\n",
              "    </tr>\n",
              "    <tr>\n",
              "      <th>887</th>\n",
              "      <td>888</td>\n",
              "      <td>1</td>\n",
              "      <td>1</td>\n",
              "      <td>Graham, Miss. Margaret Edith</td>\n",
              "      <td>female</td>\n",
              "      <td>19.0</td>\n",
              "      <td>0</td>\n",
              "      <td>0</td>\n",
              "      <td>112053</td>\n",
              "      <td>30.0000</td>\n",
              "      <td>B42</td>\n",
              "      <td>S</td>\n",
              "    </tr>\n",
              "    <tr>\n",
              "      <th>888</th>\n",
              "      <td>889</td>\n",
              "      <td>0</td>\n",
              "      <td>3</td>\n",
              "      <td>Johnston, Miss. Catherine Helen \"Carrie\"</td>\n",
              "      <td>female</td>\n",
              "      <td>NaN</td>\n",
              "      <td>1</td>\n",
              "      <td>2</td>\n",
              "      <td>W./C. 6607</td>\n",
              "      <td>23.4500</td>\n",
              "      <td>NaN</td>\n",
              "      <td>S</td>\n",
              "    </tr>\n",
              "    <tr>\n",
              "      <th>889</th>\n",
              "      <td>890</td>\n",
              "      <td>1</td>\n",
              "      <td>1</td>\n",
              "      <td>Behr, Mr. Karl Howell</td>\n",
              "      <td>male</td>\n",
              "      <td>26.0</td>\n",
              "      <td>0</td>\n",
              "      <td>0</td>\n",
              "      <td>111369</td>\n",
              "      <td>30.0000</td>\n",
              "      <td>C148</td>\n",
              "      <td>C</td>\n",
              "    </tr>\n",
              "    <tr>\n",
              "      <th>890</th>\n",
              "      <td>891</td>\n",
              "      <td>0</td>\n",
              "      <td>3</td>\n",
              "      <td>Dooley, Mr. Patrick</td>\n",
              "      <td>male</td>\n",
              "      <td>32.0</td>\n",
              "      <td>0</td>\n",
              "      <td>0</td>\n",
              "      <td>370376</td>\n",
              "      <td>7.7500</td>\n",
              "      <td>NaN</td>\n",
              "      <td>Q</td>\n",
              "    </tr>\n",
              "  </tbody>\n",
              "</table>\n",
              "</div>\n",
              "      <button class=\"colab-df-convert\" onclick=\"convertToInteractive('df-87514c3e-fd51-4e33-8bf7-3ac3546882b4')\"\n",
              "              title=\"Convert this dataframe to an interactive table.\"\n",
              "              style=\"display:none;\">\n",
              "        \n",
              "  <svg xmlns=\"http://www.w3.org/2000/svg\" height=\"24px\"viewBox=\"0 0 24 24\"\n",
              "       width=\"24px\">\n",
              "    <path d=\"M0 0h24v24H0V0z\" fill=\"none\"/>\n",
              "    <path d=\"M18.56 5.44l.94 2.06.94-2.06 2.06-.94-2.06-.94-.94-2.06-.94 2.06-2.06.94zm-11 1L8.5 8.5l.94-2.06 2.06-.94-2.06-.94L8.5 2.5l-.94 2.06-2.06.94zm10 10l.94 2.06.94-2.06 2.06-.94-2.06-.94-.94-2.06-.94 2.06-2.06.94z\"/><path d=\"M17.41 7.96l-1.37-1.37c-.4-.4-.92-.59-1.43-.59-.52 0-1.04.2-1.43.59L10.3 9.45l-7.72 7.72c-.78.78-.78 2.05 0 2.83L4 21.41c.39.39.9.59 1.41.59.51 0 1.02-.2 1.41-.59l7.78-7.78 2.81-2.81c.8-.78.8-2.07 0-2.86zM5.41 20L4 18.59l7.72-7.72 1.47 1.35L5.41 20z\"/>\n",
              "  </svg>\n",
              "      </button>\n",
              "      \n",
              "  <style>\n",
              "    .colab-df-container {\n",
              "      display:flex;\n",
              "      flex-wrap:wrap;\n",
              "      gap: 12px;\n",
              "    }\n",
              "\n",
              "    .colab-df-convert {\n",
              "      background-color: #E8F0FE;\n",
              "      border: none;\n",
              "      border-radius: 50%;\n",
              "      cursor: pointer;\n",
              "      display: none;\n",
              "      fill: #1967D2;\n",
              "      height: 32px;\n",
              "      padding: 0 0 0 0;\n",
              "      width: 32px;\n",
              "    }\n",
              "\n",
              "    .colab-df-convert:hover {\n",
              "      background-color: #E2EBFA;\n",
              "      box-shadow: 0px 1px 2px rgba(60, 64, 67, 0.3), 0px 1px 3px 1px rgba(60, 64, 67, 0.15);\n",
              "      fill: #174EA6;\n",
              "    }\n",
              "\n",
              "    [theme=dark] .colab-df-convert {\n",
              "      background-color: #3B4455;\n",
              "      fill: #D2E3FC;\n",
              "    }\n",
              "\n",
              "    [theme=dark] .colab-df-convert:hover {\n",
              "      background-color: #434B5C;\n",
              "      box-shadow: 0px 1px 3px 1px rgba(0, 0, 0, 0.15);\n",
              "      filter: drop-shadow(0px 1px 2px rgba(0, 0, 0, 0.3));\n",
              "      fill: #FFFFFF;\n",
              "    }\n",
              "  </style>\n",
              "\n",
              "      <script>\n",
              "        const buttonEl =\n",
              "          document.querySelector('#df-87514c3e-fd51-4e33-8bf7-3ac3546882b4 button.colab-df-convert');\n",
              "        buttonEl.style.display =\n",
              "          google.colab.kernel.accessAllowed ? 'block' : 'none';\n",
              "\n",
              "        async function convertToInteractive(key) {\n",
              "          const element = document.querySelector('#df-87514c3e-fd51-4e33-8bf7-3ac3546882b4');\n",
              "          const dataTable =\n",
              "            await google.colab.kernel.invokeFunction('convertToInteractive',\n",
              "                                                     [key], {});\n",
              "          if (!dataTable) return;\n",
              "\n",
              "          const docLinkHtml = 'Like what you see? Visit the ' +\n",
              "            '<a target=\"_blank\" href=https://colab.research.google.com/notebooks/data_table.ipynb>data table notebook</a>'\n",
              "            + ' to learn more about interactive tables.';\n",
              "          element.innerHTML = '';\n",
              "          dataTable['output_type'] = 'display_data';\n",
              "          await google.colab.output.renderOutput(dataTable, element);\n",
              "          const docLink = document.createElement('div');\n",
              "          docLink.innerHTML = docLinkHtml;\n",
              "          element.appendChild(docLink);\n",
              "        }\n",
              "      </script>\n",
              "    </div>\n",
              "  </div>\n",
              "  "
            ]
          },
          "metadata": {},
          "execution_count": 24
        }
      ]
    },
    {
      "cell_type": "code",
      "source": [
        "a = df.sum([])\n",
        "print(a)"
      ],
      "metadata": {
        "id": "bypHoBvLsRLn"
      },
      "execution_count": null,
      "outputs": []
    },
    {
      "cell_type": "code",
      "source": [
        "#2)\n",
        "#Suma\n",
        "a = df.sum()\n",
        "print(a)\n",
        "\"\"\"\n",
        "#Mínimo\n",
        "b = df.min()\n",
        "print(b)\n",
        "\n",
        "#Máximo\n",
        "c = df.max()\n",
        "print(c)\n",
        "\n",
        "d = df.Age.cumsum()\n",
        "print(d)\n",
        "\n",
        "e = df.Age.mean()\n",
        "print(e)\n",
        "\n",
        "#Mediana Edad\n",
        "f = df.Age.median()\n",
        "print(f)\n",
        "\n",
        "#Desviación Estándar Edad\n",
        "g = df.Age.std()\n",
        "print(g)\n",
        "\"\"\""
      ],
      "metadata": {
        "id": "xDaSM5fHI6Fc",
        "colab": {
          "base_uri": "https://localhost:8080/",
          "height": 325
        },
        "outputId": "5333eded-21a1-4481-b360-e586d17d63ae"
      },
      "execution_count": null,
      "outputs": [
        {
          "output_type": "stream",
          "name": "stdout",
          "text": [
            "PassengerId                                               397386\n",
            "Survived                                                     342\n",
            "Pclass                                                      2057\n",
            "Name           Braund, Mr. Owen HarrisCumings, Mrs. John Brad...\n",
            "Sex            malefemalefemalefemalemalemalemalemalefemalefe...\n",
            "Age                                                     21205.17\n",
            "SibSp                                                        466\n",
            "Parch                                                        340\n",
            "Ticket         A/5 21171PC 17599STON/O2. 31012821138033734503...\n",
            "Fare                                                  28693.9493\n",
            "dtype: object\n"
          ]
        },
        {
          "output_type": "stream",
          "name": "stderr",
          "text": [
            "/usr/local/lib/python3.7/dist-packages/ipykernel_launcher.py:3: FutureWarning: Dropping of nuisance columns in DataFrame reductions (with 'numeric_only=None') is deprecated; in a future version this will raise TypeError.  Select only valid columns before calling the reduction.\n",
            "  This is separate from the ipykernel package so we can avoid doing imports until\n"
          ]
        },
        {
          "output_type": "execute_result",
          "data": {
            "text/plain": [
              "'\\n#Mínimo\\nb = df.min()\\nprint(b)\\n\\n#Máximo\\nc = df.max()\\nprint(c)\\n\\nd = df.Age.cumsum()\\nprint(d)\\n\\ne = df.Age.mean()\\nprint(e)\\n\\n#Mediana Edad\\nf = df.Age.median()\\nprint(f)\\n\\n#Desviación Estándar Edad\\ng = df.Age.std()\\nprint(g)\\n'"
            ],
            "application/vnd.google.colaboratory.intrinsic+json": {
              "type": "string"
            }
          },
          "metadata": {},
          "execution_count": 9
        }
      ]
    },
    {
      "cell_type": "markdown",
      "source": [
        "# Reto Alto Nivel (Opcional)\n",
        "\n",
        "El usa el siguiente archivo para complementar lo siguiente [titanic.csv](https://raw.githubusercontent.com/asalber/asalber.github.io/master/python/ejercicios/soluciones/pandas/titanic.csv) \n",
        "\n",
        "1. Crea un DataFrame con los datos prorcionados.\n",
        "2. Muestra las dimensiones del DataFrame.\n",
        "3. Muestra los datos que contiene.\n",
        "4. Muestra los nombres de sus columnas y filas.\n",
        "5. Muestra las primeras 10 filas y las 10 últimas filas.\n",
        "6. Muestra las filas pares del DataFrame.\n",
        "7. Muestra los nombres de las personas que iban en segunda clase ordenadas alfabéticamente.\n",
        "8. Muestra el porcentaje de personas que sobrevivieron y murieron.\n",
        "9. Muestra el porcentaje de personas que sobrevivieron en cada clase.\n",
        "10. Elimina del DataFrame los pasajeros con edad desconocida.\n",
        "11. Muestra la edad media de las mujeres que viajaban en cada clase.\n",
        "12. Muestra por pantalla el porcentaje de menores y mayores de edad que sobrevivieron en cada clase."
      ],
      "metadata": {
        "id": "rbwt-Mv_ZZhx"
      }
    },
    {
      "cell_type": "markdown",
      "source": [
        "Eso es todo por ahora, no olvides socializar tus respuestas en el *canal general * y consultar a tu coach cualquier duda que tengas.\n",
        "¡Que tengas mucho éxito!\n"
      ],
      "metadata": {
        "id": "AyFWj1Yd7ObX"
      }
    },
    {
      "cell_type": "markdown",
      "source": [
        "#Dimesion"
      ],
      "metadata": {
        "id": "Ckb1gvWvMudu"
      }
    },
    {
      "cell_type": "code",
      "source": [
        "df.ndim"
      ],
      "metadata": {
        "colab": {
          "base_uri": "https://localhost:8080/"
        },
        "id": "_54n7XzJKi9G",
        "outputId": "cbe4db59-8233-4c74-a57a-396ce2ed17ca"
      },
      "execution_count": null,
      "outputs": [
        {
          "output_type": "execute_result",
          "data": {
            "text/plain": [
              "2"
            ]
          },
          "metadata": {},
          "execution_count": 12
        }
      ]
    },
    {
      "cell_type": "markdown",
      "source": [
        "#Mostrar Datos"
      ],
      "metadata": {
        "id": "W2gqeyFIM2Sj"
      }
    },
    {
      "cell_type": "code",
      "source": [
        "df.sample(5)"
      ],
      "metadata": {
        "colab": {
          "base_uri": "https://localhost:8080/",
          "height": 478
        },
        "id": "Dl-3OASfMr5Y",
        "outputId": "17536c60-516d-408e-dcd9-050ff6264039"
      },
      "execution_count": null,
      "outputs": [
        {
          "output_type": "execute_result",
          "data": {
            "text/plain": [
              "     PassengerId  Survived  Pclass                                Name  \\\n",
              "21            22         1       2               Beesley, Mr. Lawrence   \n",
              "824          825         0       3        Panula, Master. Urho Abraham   \n",
              "832          833         0       3                      Saad, Mr. Amin   \n",
              "208          209         1       3           Carr, Miss. Helen \"Ellen\"   \n",
              "59            60         0       3  Goodwin, Master. William Frederick   \n",
              "\n",
              "        Sex   Age  SibSp  Parch   Ticket     Fare Cabin Embarked  \n",
              "21     male  34.0      0      0   248698  13.0000   D56        S  \n",
              "824    male   2.0      4      1  3101295  39.6875   NaN        S  \n",
              "832    male   NaN      0      0     2671   7.2292   NaN        C  \n",
              "208  female  16.0      0      0   367231   7.7500   NaN        Q  \n",
              "59     male  11.0      5      2  CA 2144  46.9000   NaN        S  "
            ],
            "text/html": [
              "\n",
              "  <div id=\"df-a6d7d484-e391-4edb-8f98-44f871c92b4c\">\n",
              "    <div class=\"colab-df-container\">\n",
              "      <div>\n",
              "<style scoped>\n",
              "    .dataframe tbody tr th:only-of-type {\n",
              "        vertical-align: middle;\n",
              "    }\n",
              "\n",
              "    .dataframe tbody tr th {\n",
              "        vertical-align: top;\n",
              "    }\n",
              "\n",
              "    .dataframe thead th {\n",
              "        text-align: right;\n",
              "    }\n",
              "</style>\n",
              "<table border=\"1\" class=\"dataframe\">\n",
              "  <thead>\n",
              "    <tr style=\"text-align: right;\">\n",
              "      <th></th>\n",
              "      <th>PassengerId</th>\n",
              "      <th>Survived</th>\n",
              "      <th>Pclass</th>\n",
              "      <th>Name</th>\n",
              "      <th>Sex</th>\n",
              "      <th>Age</th>\n",
              "      <th>SibSp</th>\n",
              "      <th>Parch</th>\n",
              "      <th>Ticket</th>\n",
              "      <th>Fare</th>\n",
              "      <th>Cabin</th>\n",
              "      <th>Embarked</th>\n",
              "    </tr>\n",
              "  </thead>\n",
              "  <tbody>\n",
              "    <tr>\n",
              "      <th>21</th>\n",
              "      <td>22</td>\n",
              "      <td>1</td>\n",
              "      <td>2</td>\n",
              "      <td>Beesley, Mr. Lawrence</td>\n",
              "      <td>male</td>\n",
              "      <td>34.0</td>\n",
              "      <td>0</td>\n",
              "      <td>0</td>\n",
              "      <td>248698</td>\n",
              "      <td>13.0000</td>\n",
              "      <td>D56</td>\n",
              "      <td>S</td>\n",
              "    </tr>\n",
              "    <tr>\n",
              "      <th>824</th>\n",
              "      <td>825</td>\n",
              "      <td>0</td>\n",
              "      <td>3</td>\n",
              "      <td>Panula, Master. Urho Abraham</td>\n",
              "      <td>male</td>\n",
              "      <td>2.0</td>\n",
              "      <td>4</td>\n",
              "      <td>1</td>\n",
              "      <td>3101295</td>\n",
              "      <td>39.6875</td>\n",
              "      <td>NaN</td>\n",
              "      <td>S</td>\n",
              "    </tr>\n",
              "    <tr>\n",
              "      <th>832</th>\n",
              "      <td>833</td>\n",
              "      <td>0</td>\n",
              "      <td>3</td>\n",
              "      <td>Saad, Mr. Amin</td>\n",
              "      <td>male</td>\n",
              "      <td>NaN</td>\n",
              "      <td>0</td>\n",
              "      <td>0</td>\n",
              "      <td>2671</td>\n",
              "      <td>7.2292</td>\n",
              "      <td>NaN</td>\n",
              "      <td>C</td>\n",
              "    </tr>\n",
              "    <tr>\n",
              "      <th>208</th>\n",
              "      <td>209</td>\n",
              "      <td>1</td>\n",
              "      <td>3</td>\n",
              "      <td>Carr, Miss. Helen \"Ellen\"</td>\n",
              "      <td>female</td>\n",
              "      <td>16.0</td>\n",
              "      <td>0</td>\n",
              "      <td>0</td>\n",
              "      <td>367231</td>\n",
              "      <td>7.7500</td>\n",
              "      <td>NaN</td>\n",
              "      <td>Q</td>\n",
              "    </tr>\n",
              "    <tr>\n",
              "      <th>59</th>\n",
              "      <td>60</td>\n",
              "      <td>0</td>\n",
              "      <td>3</td>\n",
              "      <td>Goodwin, Master. William Frederick</td>\n",
              "      <td>male</td>\n",
              "      <td>11.0</td>\n",
              "      <td>5</td>\n",
              "      <td>2</td>\n",
              "      <td>CA 2144</td>\n",
              "      <td>46.9000</td>\n",
              "      <td>NaN</td>\n",
              "      <td>S</td>\n",
              "    </tr>\n",
              "  </tbody>\n",
              "</table>\n",
              "</div>\n",
              "      <button class=\"colab-df-convert\" onclick=\"convertToInteractive('df-a6d7d484-e391-4edb-8f98-44f871c92b4c')\"\n",
              "              title=\"Convert this dataframe to an interactive table.\"\n",
              "              style=\"display:none;\">\n",
              "        \n",
              "  <svg xmlns=\"http://www.w3.org/2000/svg\" height=\"24px\"viewBox=\"0 0 24 24\"\n",
              "       width=\"24px\">\n",
              "    <path d=\"M0 0h24v24H0V0z\" fill=\"none\"/>\n",
              "    <path d=\"M18.56 5.44l.94 2.06.94-2.06 2.06-.94-2.06-.94-.94-2.06-.94 2.06-2.06.94zm-11 1L8.5 8.5l.94-2.06 2.06-.94-2.06-.94L8.5 2.5l-.94 2.06-2.06.94zm10 10l.94 2.06.94-2.06 2.06-.94-2.06-.94-.94-2.06-.94 2.06-2.06.94z\"/><path d=\"M17.41 7.96l-1.37-1.37c-.4-.4-.92-.59-1.43-.59-.52 0-1.04.2-1.43.59L10.3 9.45l-7.72 7.72c-.78.78-.78 2.05 0 2.83L4 21.41c.39.39.9.59 1.41.59.51 0 1.02-.2 1.41-.59l7.78-7.78 2.81-2.81c.8-.78.8-2.07 0-2.86zM5.41 20L4 18.59l7.72-7.72 1.47 1.35L5.41 20z\"/>\n",
              "  </svg>\n",
              "      </button>\n",
              "      \n",
              "  <style>\n",
              "    .colab-df-container {\n",
              "      display:flex;\n",
              "      flex-wrap:wrap;\n",
              "      gap: 12px;\n",
              "    }\n",
              "\n",
              "    .colab-df-convert {\n",
              "      background-color: #E8F0FE;\n",
              "      border: none;\n",
              "      border-radius: 50%;\n",
              "      cursor: pointer;\n",
              "      display: none;\n",
              "      fill: #1967D2;\n",
              "      height: 32px;\n",
              "      padding: 0 0 0 0;\n",
              "      width: 32px;\n",
              "    }\n",
              "\n",
              "    .colab-df-convert:hover {\n",
              "      background-color: #E2EBFA;\n",
              "      box-shadow: 0px 1px 2px rgba(60, 64, 67, 0.3), 0px 1px 3px 1px rgba(60, 64, 67, 0.15);\n",
              "      fill: #174EA6;\n",
              "    }\n",
              "\n",
              "    [theme=dark] .colab-df-convert {\n",
              "      background-color: #3B4455;\n",
              "      fill: #D2E3FC;\n",
              "    }\n",
              "\n",
              "    [theme=dark] .colab-df-convert:hover {\n",
              "      background-color: #434B5C;\n",
              "      box-shadow: 0px 1px 3px 1px rgba(0, 0, 0, 0.15);\n",
              "      filter: drop-shadow(0px 1px 2px rgba(0, 0, 0, 0.3));\n",
              "      fill: #FFFFFF;\n",
              "    }\n",
              "  </style>\n",
              "\n",
              "      <script>\n",
              "        const buttonEl =\n",
              "          document.querySelector('#df-a6d7d484-e391-4edb-8f98-44f871c92b4c button.colab-df-convert');\n",
              "        buttonEl.style.display =\n",
              "          google.colab.kernel.accessAllowed ? 'block' : 'none';\n",
              "\n",
              "        async function convertToInteractive(key) {\n",
              "          const element = document.querySelector('#df-a6d7d484-e391-4edb-8f98-44f871c92b4c');\n",
              "          const dataTable =\n",
              "            await google.colab.kernel.invokeFunction('convertToInteractive',\n",
              "                                                     [key], {});\n",
              "          if (!dataTable) return;\n",
              "\n",
              "          const docLinkHtml = 'Like what you see? Visit the ' +\n",
              "            '<a target=\"_blank\" href=https://colab.research.google.com/notebooks/data_table.ipynb>data table notebook</a>'\n",
              "            + ' to learn more about interactive tables.';\n",
              "          element.innerHTML = '';\n",
              "          dataTable['output_type'] = 'display_data';\n",
              "          await google.colab.output.renderOutput(dataTable, element);\n",
              "          const docLink = document.createElement('div');\n",
              "          docLink.innerHTML = docLinkHtml;\n",
              "          element.appendChild(docLink);\n",
              "        }\n",
              "      </script>\n",
              "    </div>\n",
              "  </div>\n",
              "  "
            ]
          },
          "metadata": {},
          "execution_count": 13
        }
      ]
    },
    {
      "cell_type": "markdown",
      "source": [
        "#Muestra las primeras 10 filas y las 10 últimas filas."
      ],
      "metadata": {
        "id": "Dz9vIiyhNXVx"
      }
    },
    {
      "cell_type": "code",
      "source": [
        "\n",
        "var1 = df.iloc[0:10] \n",
        "var2 = df.iloc[881:891]\n",
        "var3 = pd.concat([var1,var2])\n",
        "print(var3)"
      ],
      "metadata": {
        "colab": {
          "base_uri": "https://localhost:8080/"
        },
        "id": "OEeYyGLQNaJ4",
        "outputId": "f8617070-2bad-45e3-b291-3cd4165f7daa"
      },
      "execution_count": null,
      "outputs": [
        {
          "output_type": "stream",
          "name": "stdout",
          "text": [
            "     PassengerId  Survived  Pclass  \\\n",
            "0              1         0       3   \n",
            "1              2         1       1   \n",
            "2              3         1       3   \n",
            "3              4         1       1   \n",
            "4              5         0       3   \n",
            "5              6         0       3   \n",
            "6              7         0       1   \n",
            "7              8         0       3   \n",
            "8              9         1       3   \n",
            "9             10         1       2   \n",
            "881          882         0       3   \n",
            "882          883         0       3   \n",
            "883          884         0       2   \n",
            "884          885         0       3   \n",
            "885          886         0       3   \n",
            "886          887         0       2   \n",
            "887          888         1       1   \n",
            "888          889         0       3   \n",
            "889          890         1       1   \n",
            "890          891         0       3   \n",
            "\n",
            "                                                  Name     Sex   Age  SibSp  \\\n",
            "0                              Braund, Mr. Owen Harris    male  22.0      1   \n",
            "1    Cumings, Mrs. John Bradley (Florence Briggs Th...  female  38.0      1   \n",
            "2                               Heikkinen, Miss. Laina  female  26.0      0   \n",
            "3         Futrelle, Mrs. Jacques Heath (Lily May Peel)  female  35.0      1   \n",
            "4                             Allen, Mr. William Henry    male  35.0      0   \n",
            "5                                     Moran, Mr. James    male   NaN      0   \n",
            "6                              McCarthy, Mr. Timothy J    male  54.0      0   \n",
            "7                       Palsson, Master. Gosta Leonard    male   2.0      3   \n",
            "8    Johnson, Mrs. Oscar W (Elisabeth Vilhelmina Berg)  female  27.0      0   \n",
            "9                  Nasser, Mrs. Nicholas (Adele Achem)  female  14.0      1   \n",
            "881                                 Markun, Mr. Johann    male  33.0      0   \n",
            "882                       Dahlberg, Miss. Gerda Ulrika  female  22.0      0   \n",
            "883                      Banfield, Mr. Frederick James    male  28.0      0   \n",
            "884                             Sutehall, Mr. Henry Jr    male  25.0      0   \n",
            "885               Rice, Mrs. William (Margaret Norton)  female  39.0      0   \n",
            "886                              Montvila, Rev. Juozas    male  27.0      0   \n",
            "887                       Graham, Miss. Margaret Edith  female  19.0      0   \n",
            "888           Johnston, Miss. Catherine Helen \"Carrie\"  female   NaN      1   \n",
            "889                              Behr, Mr. Karl Howell    male  26.0      0   \n",
            "890                                Dooley, Mr. Patrick    male  32.0      0   \n",
            "\n",
            "     Parch            Ticket     Fare Cabin Embarked  \n",
            "0        0         A/5 21171   7.2500   NaN        S  \n",
            "1        0          PC 17599  71.2833   C85        C  \n",
            "2        0  STON/O2. 3101282   7.9250   NaN        S  \n",
            "3        0            113803  53.1000  C123        S  \n",
            "4        0            373450   8.0500   NaN        S  \n",
            "5        0            330877   8.4583   NaN        Q  \n",
            "6        0             17463  51.8625   E46        S  \n",
            "7        1            349909  21.0750   NaN        S  \n",
            "8        2            347742  11.1333   NaN        S  \n",
            "9        0            237736  30.0708   NaN        C  \n",
            "881      0            349257   7.8958   NaN        S  \n",
            "882      0              7552  10.5167   NaN        S  \n",
            "883      0  C.A./SOTON 34068  10.5000   NaN        S  \n",
            "884      0   SOTON/OQ 392076   7.0500   NaN        S  \n",
            "885      5            382652  29.1250   NaN        Q  \n",
            "886      0            211536  13.0000   NaN        S  \n",
            "887      0            112053  30.0000   B42        S  \n",
            "888      2        W./C. 6607  23.4500   NaN        S  \n",
            "889      0            111369  30.0000  C148        C  \n",
            "890      0            370376   7.7500   NaN        Q  \n"
          ]
        }
      ]
    },
    {
      "cell_type": "markdown",
      "source": [
        "#Muestra las filas pares del DataFrame."
      ],
      "metadata": {
        "id": "R64F2O4XSVKi"
      }
    },
    {
      "cell_type": "code",
      "source": [
        "df.loc[df.index % 2 == 0, :]"
      ],
      "metadata": {
        "colab": {
          "base_uri": "https://localhost:8080/",
          "height": 939
        },
        "id": "rWRHrN2ASXN-",
        "outputId": "63d8827e-9546-42e0-8d9e-21d348ed0156"
      },
      "execution_count": null,
      "outputs": [
        {
          "output_type": "execute_result",
          "data": {
            "text/plain": [
              "     PassengerId  Survived  Pclass  \\\n",
              "0              1         0       3   \n",
              "2              3         1       3   \n",
              "4              5         0       3   \n",
              "6              7         0       1   \n",
              "8              9         1       3   \n",
              "..           ...       ...     ...   \n",
              "882          883         0       3   \n",
              "884          885         0       3   \n",
              "886          887         0       2   \n",
              "888          889         0       3   \n",
              "890          891         0       3   \n",
              "\n",
              "                                                  Name     Sex   Age  SibSp  \\\n",
              "0                              Braund, Mr. Owen Harris    male  22.0      1   \n",
              "2                               Heikkinen, Miss. Laina  female  26.0      0   \n",
              "4                             Allen, Mr. William Henry    male  35.0      0   \n",
              "6                              McCarthy, Mr. Timothy J    male  54.0      0   \n",
              "8    Johnson, Mrs. Oscar W (Elisabeth Vilhelmina Berg)  female  27.0      0   \n",
              "..                                                 ...     ...   ...    ...   \n",
              "882                       Dahlberg, Miss. Gerda Ulrika  female  22.0      0   \n",
              "884                             Sutehall, Mr. Henry Jr    male  25.0      0   \n",
              "886                              Montvila, Rev. Juozas    male  27.0      0   \n",
              "888           Johnston, Miss. Catherine Helen \"Carrie\"  female   NaN      1   \n",
              "890                                Dooley, Mr. Patrick    male  32.0      0   \n",
              "\n",
              "     Parch            Ticket     Fare Cabin Embarked  \n",
              "0        0         A/5 21171   7.2500   NaN        S  \n",
              "2        0  STON/O2. 3101282   7.9250   NaN        S  \n",
              "4        0            373450   8.0500   NaN        S  \n",
              "6        0             17463  51.8625   E46        S  \n",
              "8        2            347742  11.1333   NaN        S  \n",
              "..     ...               ...      ...   ...      ...  \n",
              "882      0              7552  10.5167   NaN        S  \n",
              "884      0   SOTON/OQ 392076   7.0500   NaN        S  \n",
              "886      0            211536  13.0000   NaN        S  \n",
              "888      2        W./C. 6607  23.4500   NaN        S  \n",
              "890      0            370376   7.7500   NaN        Q  \n",
              "\n",
              "[446 rows x 12 columns]"
            ],
            "text/html": [
              "\n",
              "  <div id=\"df-59de5dd2-37b4-459b-9ae5-2b0acf45e768\">\n",
              "    <div class=\"colab-df-container\">\n",
              "      <div>\n",
              "<style scoped>\n",
              "    .dataframe tbody tr th:only-of-type {\n",
              "        vertical-align: middle;\n",
              "    }\n",
              "\n",
              "    .dataframe tbody tr th {\n",
              "        vertical-align: top;\n",
              "    }\n",
              "\n",
              "    .dataframe thead th {\n",
              "        text-align: right;\n",
              "    }\n",
              "</style>\n",
              "<table border=\"1\" class=\"dataframe\">\n",
              "  <thead>\n",
              "    <tr style=\"text-align: right;\">\n",
              "      <th></th>\n",
              "      <th>PassengerId</th>\n",
              "      <th>Survived</th>\n",
              "      <th>Pclass</th>\n",
              "      <th>Name</th>\n",
              "      <th>Sex</th>\n",
              "      <th>Age</th>\n",
              "      <th>SibSp</th>\n",
              "      <th>Parch</th>\n",
              "      <th>Ticket</th>\n",
              "      <th>Fare</th>\n",
              "      <th>Cabin</th>\n",
              "      <th>Embarked</th>\n",
              "    </tr>\n",
              "  </thead>\n",
              "  <tbody>\n",
              "    <tr>\n",
              "      <th>0</th>\n",
              "      <td>1</td>\n",
              "      <td>0</td>\n",
              "      <td>3</td>\n",
              "      <td>Braund, Mr. Owen Harris</td>\n",
              "      <td>male</td>\n",
              "      <td>22.0</td>\n",
              "      <td>1</td>\n",
              "      <td>0</td>\n",
              "      <td>A/5 21171</td>\n",
              "      <td>7.2500</td>\n",
              "      <td>NaN</td>\n",
              "      <td>S</td>\n",
              "    </tr>\n",
              "    <tr>\n",
              "      <th>2</th>\n",
              "      <td>3</td>\n",
              "      <td>1</td>\n",
              "      <td>3</td>\n",
              "      <td>Heikkinen, Miss. Laina</td>\n",
              "      <td>female</td>\n",
              "      <td>26.0</td>\n",
              "      <td>0</td>\n",
              "      <td>0</td>\n",
              "      <td>STON/O2. 3101282</td>\n",
              "      <td>7.9250</td>\n",
              "      <td>NaN</td>\n",
              "      <td>S</td>\n",
              "    </tr>\n",
              "    <tr>\n",
              "      <th>4</th>\n",
              "      <td>5</td>\n",
              "      <td>0</td>\n",
              "      <td>3</td>\n",
              "      <td>Allen, Mr. William Henry</td>\n",
              "      <td>male</td>\n",
              "      <td>35.0</td>\n",
              "      <td>0</td>\n",
              "      <td>0</td>\n",
              "      <td>373450</td>\n",
              "      <td>8.0500</td>\n",
              "      <td>NaN</td>\n",
              "      <td>S</td>\n",
              "    </tr>\n",
              "    <tr>\n",
              "      <th>6</th>\n",
              "      <td>7</td>\n",
              "      <td>0</td>\n",
              "      <td>1</td>\n",
              "      <td>McCarthy, Mr. Timothy J</td>\n",
              "      <td>male</td>\n",
              "      <td>54.0</td>\n",
              "      <td>0</td>\n",
              "      <td>0</td>\n",
              "      <td>17463</td>\n",
              "      <td>51.8625</td>\n",
              "      <td>E46</td>\n",
              "      <td>S</td>\n",
              "    </tr>\n",
              "    <tr>\n",
              "      <th>8</th>\n",
              "      <td>9</td>\n",
              "      <td>1</td>\n",
              "      <td>3</td>\n",
              "      <td>Johnson, Mrs. Oscar W (Elisabeth Vilhelmina Berg)</td>\n",
              "      <td>female</td>\n",
              "      <td>27.0</td>\n",
              "      <td>0</td>\n",
              "      <td>2</td>\n",
              "      <td>347742</td>\n",
              "      <td>11.1333</td>\n",
              "      <td>NaN</td>\n",
              "      <td>S</td>\n",
              "    </tr>\n",
              "    <tr>\n",
              "      <th>...</th>\n",
              "      <td>...</td>\n",
              "      <td>...</td>\n",
              "      <td>...</td>\n",
              "      <td>...</td>\n",
              "      <td>...</td>\n",
              "      <td>...</td>\n",
              "      <td>...</td>\n",
              "      <td>...</td>\n",
              "      <td>...</td>\n",
              "      <td>...</td>\n",
              "      <td>...</td>\n",
              "      <td>...</td>\n",
              "    </tr>\n",
              "    <tr>\n",
              "      <th>882</th>\n",
              "      <td>883</td>\n",
              "      <td>0</td>\n",
              "      <td>3</td>\n",
              "      <td>Dahlberg, Miss. Gerda Ulrika</td>\n",
              "      <td>female</td>\n",
              "      <td>22.0</td>\n",
              "      <td>0</td>\n",
              "      <td>0</td>\n",
              "      <td>7552</td>\n",
              "      <td>10.5167</td>\n",
              "      <td>NaN</td>\n",
              "      <td>S</td>\n",
              "    </tr>\n",
              "    <tr>\n",
              "      <th>884</th>\n",
              "      <td>885</td>\n",
              "      <td>0</td>\n",
              "      <td>3</td>\n",
              "      <td>Sutehall, Mr. Henry Jr</td>\n",
              "      <td>male</td>\n",
              "      <td>25.0</td>\n",
              "      <td>0</td>\n",
              "      <td>0</td>\n",
              "      <td>SOTON/OQ 392076</td>\n",
              "      <td>7.0500</td>\n",
              "      <td>NaN</td>\n",
              "      <td>S</td>\n",
              "    </tr>\n",
              "    <tr>\n",
              "      <th>886</th>\n",
              "      <td>887</td>\n",
              "      <td>0</td>\n",
              "      <td>2</td>\n",
              "      <td>Montvila, Rev. Juozas</td>\n",
              "      <td>male</td>\n",
              "      <td>27.0</td>\n",
              "      <td>0</td>\n",
              "      <td>0</td>\n",
              "      <td>211536</td>\n",
              "      <td>13.0000</td>\n",
              "      <td>NaN</td>\n",
              "      <td>S</td>\n",
              "    </tr>\n",
              "    <tr>\n",
              "      <th>888</th>\n",
              "      <td>889</td>\n",
              "      <td>0</td>\n",
              "      <td>3</td>\n",
              "      <td>Johnston, Miss. Catherine Helen \"Carrie\"</td>\n",
              "      <td>female</td>\n",
              "      <td>NaN</td>\n",
              "      <td>1</td>\n",
              "      <td>2</td>\n",
              "      <td>W./C. 6607</td>\n",
              "      <td>23.4500</td>\n",
              "      <td>NaN</td>\n",
              "      <td>S</td>\n",
              "    </tr>\n",
              "    <tr>\n",
              "      <th>890</th>\n",
              "      <td>891</td>\n",
              "      <td>0</td>\n",
              "      <td>3</td>\n",
              "      <td>Dooley, Mr. Patrick</td>\n",
              "      <td>male</td>\n",
              "      <td>32.0</td>\n",
              "      <td>0</td>\n",
              "      <td>0</td>\n",
              "      <td>370376</td>\n",
              "      <td>7.7500</td>\n",
              "      <td>NaN</td>\n",
              "      <td>Q</td>\n",
              "    </tr>\n",
              "  </tbody>\n",
              "</table>\n",
              "<p>446 rows × 12 columns</p>\n",
              "</div>\n",
              "      <button class=\"colab-df-convert\" onclick=\"convertToInteractive('df-59de5dd2-37b4-459b-9ae5-2b0acf45e768')\"\n",
              "              title=\"Convert this dataframe to an interactive table.\"\n",
              "              style=\"display:none;\">\n",
              "        \n",
              "  <svg xmlns=\"http://www.w3.org/2000/svg\" height=\"24px\"viewBox=\"0 0 24 24\"\n",
              "       width=\"24px\">\n",
              "    <path d=\"M0 0h24v24H0V0z\" fill=\"none\"/>\n",
              "    <path d=\"M18.56 5.44l.94 2.06.94-2.06 2.06-.94-2.06-.94-.94-2.06-.94 2.06-2.06.94zm-11 1L8.5 8.5l.94-2.06 2.06-.94-2.06-.94L8.5 2.5l-.94 2.06-2.06.94zm10 10l.94 2.06.94-2.06 2.06-.94-2.06-.94-.94-2.06-.94 2.06-2.06.94z\"/><path d=\"M17.41 7.96l-1.37-1.37c-.4-.4-.92-.59-1.43-.59-.52 0-1.04.2-1.43.59L10.3 9.45l-7.72 7.72c-.78.78-.78 2.05 0 2.83L4 21.41c.39.39.9.59 1.41.59.51 0 1.02-.2 1.41-.59l7.78-7.78 2.81-2.81c.8-.78.8-2.07 0-2.86zM5.41 20L4 18.59l7.72-7.72 1.47 1.35L5.41 20z\"/>\n",
              "  </svg>\n",
              "      </button>\n",
              "      \n",
              "  <style>\n",
              "    .colab-df-container {\n",
              "      display:flex;\n",
              "      flex-wrap:wrap;\n",
              "      gap: 12px;\n",
              "    }\n",
              "\n",
              "    .colab-df-convert {\n",
              "      background-color: #E8F0FE;\n",
              "      border: none;\n",
              "      border-radius: 50%;\n",
              "      cursor: pointer;\n",
              "      display: none;\n",
              "      fill: #1967D2;\n",
              "      height: 32px;\n",
              "      padding: 0 0 0 0;\n",
              "      width: 32px;\n",
              "    }\n",
              "\n",
              "    .colab-df-convert:hover {\n",
              "      background-color: #E2EBFA;\n",
              "      box-shadow: 0px 1px 2px rgba(60, 64, 67, 0.3), 0px 1px 3px 1px rgba(60, 64, 67, 0.15);\n",
              "      fill: #174EA6;\n",
              "    }\n",
              "\n",
              "    [theme=dark] .colab-df-convert {\n",
              "      background-color: #3B4455;\n",
              "      fill: #D2E3FC;\n",
              "    }\n",
              "\n",
              "    [theme=dark] .colab-df-convert:hover {\n",
              "      background-color: #434B5C;\n",
              "      box-shadow: 0px 1px 3px 1px rgba(0, 0, 0, 0.15);\n",
              "      filter: drop-shadow(0px 1px 2px rgba(0, 0, 0, 0.3));\n",
              "      fill: #FFFFFF;\n",
              "    }\n",
              "  </style>\n",
              "\n",
              "      <script>\n",
              "        const buttonEl =\n",
              "          document.querySelector('#df-59de5dd2-37b4-459b-9ae5-2b0acf45e768 button.colab-df-convert');\n",
              "        buttonEl.style.display =\n",
              "          google.colab.kernel.accessAllowed ? 'block' : 'none';\n",
              "\n",
              "        async function convertToInteractive(key) {\n",
              "          const element = document.querySelector('#df-59de5dd2-37b4-459b-9ae5-2b0acf45e768');\n",
              "          const dataTable =\n",
              "            await google.colab.kernel.invokeFunction('convertToInteractive',\n",
              "                                                     [key], {});\n",
              "          if (!dataTable) return;\n",
              "\n",
              "          const docLinkHtml = 'Like what you see? Visit the ' +\n",
              "            '<a target=\"_blank\" href=https://colab.research.google.com/notebooks/data_table.ipynb>data table notebook</a>'\n",
              "            + ' to learn more about interactive tables.';\n",
              "          element.innerHTML = '';\n",
              "          dataTable['output_type'] = 'display_data';\n",
              "          await google.colab.output.renderOutput(dataTable, element);\n",
              "          const docLink = document.createElement('div');\n",
              "          docLink.innerHTML = docLinkHtml;\n",
              "          element.appendChild(docLink);\n",
              "        }\n",
              "      </script>\n",
              "    </div>\n",
              "  </div>\n",
              "  "
            ]
          },
          "metadata": {},
          "execution_count": 41
        }
      ]
    },
    {
      "cell_type": "markdown",
      "source": [
        "#Muestra los nombres de las personas que iban en segunda clase ordenadas alfabéticamente."
      ],
      "metadata": {
        "id": "CFaBLlpccfqk"
      }
    },
    {
      "cell_type": "code",
      "source": [
        "#df['Pclass'].unique()\n",
        "datos1 = df.loc[df.Pclass == 2, 'Name']\n",
        "datos1.sort_values(axis=0, ascending= True)"
      ],
      "metadata": {
        "colab": {
          "base_uri": "https://localhost:8080/"
        },
        "id": "ELAtrpmGchFX",
        "outputId": "70476704-3104-4a80-c8c3-8fbe4679798e"
      },
      "execution_count": null,
      "outputs": [
        {
          "output_type": "execute_result",
          "data": {
            "text/plain": [
              "308                                  Abelson, Mr. Samuel\n",
              "874                Abelson, Mrs. Samuel (Hannah Wizosky)\n",
              "144                           Andrew, Mr. Edgardo Samuel\n",
              "518    Angle, Mrs. William A (Florence \"Mary\" Agnes H...\n",
              "757                             Bailey, Mr. Percy Andrew\n",
              "                             ...                        \n",
              "33                                 Wheadon, Mr. Edward H\n",
              "673                                Wilhelms, Mr. Charles\n",
              "17                          Williams, Mr. Charles Eugene\n",
              "199               Yrois, Miss. Henriette (\"Mrs Harbeck\")\n",
              "361                            del Carlo, Mr. Sebastiano\n",
              "Name: Name, Length: 184, dtype: object"
            ]
          },
          "metadata": {},
          "execution_count": 62
        }
      ]
    },
    {
      "cell_type": "markdown",
      "source": [
        "#Muestra el porcentaje de personas que sobrevivieron y murieron."
      ],
      "metadata": {
        "id": "R_Tc-iCHghBw"
      }
    },
    {
      "cell_type": "code",
      "source": [
        "muertes = df.loc[df['Survived'] == 0, 'PassengerId'].count()\n",
        "vivos = df.loc[df['Survived'] == 1, 'PassengerId'].count()\n",
        "total = muertes + vivos\n",
        "\n",
        "print('Total vivos', vivos,', que equivale a un ' ,round((vivos/total)*100),'%')\n",
        "print('Total muertos', muertes,', que equivale a un ' ,round((muertes/total)*100),'%')"
      ],
      "metadata": {
        "colab": {
          "base_uri": "https://localhost:8080/"
        },
        "id": "WuwpIaPQgiIi",
        "outputId": "4c9a9880-787b-47ff-9149-92dc3ddcf7ee"
      },
      "execution_count": null,
      "outputs": [
        {
          "output_type": "stream",
          "name": "stdout",
          "text": [
            "Total vivos 342 , que equivale a un  38 %\n",
            "Total muertos 549 , que equivale a un  62 %\n"
          ]
        }
      ]
    },
    {
      "cell_type": "markdown",
      "source": [
        "#Muestra el porcentaje de personas que sobrevivieron en cada clase."
      ],
      "metadata": {
        "id": "5bzS_oVGlu1B"
      }
    },
    {
      "cell_type": "code",
      "source": [
        "vivosClass1 = df.loc[(df['Survived'] == 1) & (df['Pclass'] == 1), 'PassengerId'].count()\n",
        "vivosClass2 = df.loc[(df['Survived'] == 1) & (df['Pclass'] == 2), 'PassengerId'].count()\n",
        "vivosClass3 = df.loc[(df['Survived'] == 1) & (df['Pclass'] == 3), 'PassengerId'].count()\n",
        "\n",
        "print('Clase 1 ', round((vivosClass1/total)*100,2),'%')\n",
        "print('Clase 2 ', round((vivosClass2/total)*100,2),'%')\n",
        "print('Clase 3 ', round((vivosClass3/total)*100,2),'%')"
      ],
      "metadata": {
        "colab": {
          "base_uri": "https://localhost:8080/"
        },
        "id": "YTCS45OelwTn",
        "outputId": "dfda8d60-8d07-466b-e2bb-15f5914a0009"
      },
      "execution_count": null,
      "outputs": [
        {
          "output_type": "stream",
          "name": "stdout",
          "text": [
            "Clase 1  15.26 %\n",
            "Clase 2  9.76 %\n",
            "Clase 3  13.36 %\n"
          ]
        }
      ]
    },
    {
      "cell_type": "markdown",
      "source": [
        "#Elimina del DataFrame los pasajeros con edad desconocida."
      ],
      "metadata": {
        "id": "8Nbi7T0soblC"
      }
    },
    {
      "cell_type": "code",
      "source": [
        "#Imprimo la cantidad de registros totales de Edad\n",
        "edad = df['Age']\n",
        "print(edad)\n",
        "#Elimino los registros Null\n",
        "edad = edad.dropna()\n",
        "print(edad)\n",
        "#Cuento que cantidad era Null\n",
        "cantidad = df['Age'].isnull().sum()\n",
        "print(cantidad)"
      ],
      "metadata": {
        "colab": {
          "base_uri": "https://localhost:8080/"
        },
        "id": "xqYavvo9oeKN",
        "outputId": "c7aa0353-ca36-4e2f-93cb-58b459bbecf8"
      },
      "execution_count": null,
      "outputs": [
        {
          "output_type": "stream",
          "name": "stdout",
          "text": [
            "845    42.0\n",
            "746    16.0\n",
            "279    35.0\n",
            "308    30.0\n",
            "874    28.0\n",
            "       ... \n",
            "286    30.0\n",
            "282    16.0\n",
            "361    29.0\n",
            "153    40.5\n",
            "868     NaN\n",
            "Name: Age, Length: 891, dtype: float64\n",
            "845    42.0\n",
            "746    16.0\n",
            "279    35.0\n",
            "308    30.0\n",
            "874    28.0\n",
            "       ... \n",
            "559    36.0\n",
            "286    30.0\n",
            "282    16.0\n",
            "361    29.0\n",
            "153    40.5\n",
            "Name: Age, Length: 714, dtype: float64\n",
            "177\n"
          ]
        }
      ]
    },
    {
      "cell_type": "markdown",
      "source": [
        "#Muestra la edad media de las mujeres que viajaban en cada clase"
      ],
      "metadata": {
        "id": "CA8lsaLuxJ0j"
      }
    },
    {
      "cell_type": "code",
      "source": [
        "mujeres = df.loc[df['Sex'] == 'female', 'PassengerId']\n",
        "\n",
        "edadClass1 = df.loc[(df['Sex'] == 'female') & (df['Pclass'] == 1), 'Age'].mean()\n",
        "edadClass2 = df.loc[(df['Sex'] == 'female') & (df['Pclass'] == 2), 'Age'].mean()\n",
        "edadClass3 = df.loc[(df['Sex'] == 'female') & (df['Pclass'] == 3), 'Age'].mean()\n",
        "print('La edad media de Clase 1 es ', round(edadClass1),'Años de edad')\n",
        "print('La edad media de Clase 2 es ', round(edadClass2),'Años de edad')\n",
        "print('La edad media de Clase 3 es ', round(edadClass3),'Años de edad')"
      ],
      "metadata": {
        "colab": {
          "base_uri": "https://localhost:8080/"
        },
        "id": "IpeCjnbQxLY4",
        "outputId": "181d79b9-e314-4dd4-c568-3e98c048c81a"
      },
      "execution_count": null,
      "outputs": [
        {
          "output_type": "stream",
          "name": "stdout",
          "text": [
            "La edad media de Clase 1 es  35 Años de edad\n",
            "La edad media de Clase 2 es  29 Años de edad\n",
            "La edad media de Clase 3 es  22 Años de edad\n"
          ]
        }
      ]
    },
    {
      "cell_type": "markdown",
      "source": [
        "#Muestra por pantalla el porcentaje de menores y mayores de edad que sobrevivieron en cada clase."
      ],
      "metadata": {
        "id": "hkcf7KGsz7gl"
      }
    },
    {
      "cell_type": "code",
      "source": [
        "MayoresClass1 = df.loc[(df['Survived'] == 1) & (df['Pclass'] == 1) & (df['Age'] > 18), 'PassengerId'].count()\n",
        "MenoresClass1 = df.loc[(df['Survived'] == 1) & (df['Pclass'] == 1) & (df['Age'] < 18), 'PassengerId'].count()\n",
        "\n",
        "MayoresClass2 = df.loc[(df['Survived'] == 1) & (df['Pclass'] == 2) & (df['Age'] > 18), 'PassengerId'].count()\n",
        "MenoresClass2 = df.loc[(df['Survived'] == 1) & (df['Pclass'] == 2) & (df['Age'] < 18), 'PassengerId'].count()\n",
        "\n",
        "MayoresClass3 = df.loc[(df['Survived'] == 1) & (df['Pclass'] == 3) & (df['Age'] > 18), 'PassengerId'].count()\n",
        "MenoresClass3 = df.loc[(df['Survived'] == 1) & (df['Pclass'] == 3) & (df['Age'] < 18), 'PassengerId'].count()\n",
        "print('Primera Clase')\n",
        "print('Mayores de Edad que sobrevieron en Clase 1 ', round(((MayoresClass1/vivosClass1)*100),2), '%')\n",
        "print('Menores de Edad que sobrevieron en Clase 1 ', round(((MenoresClass1/vivosClass1)*100),2), '%')\n",
        "print('Segunda Clase')\n",
        "print('Mayores de Edad que sobrevieron en Clase 2 ', round(((MayoresClass2/vivosClass2)*100),2), '%')\n",
        "print('Menores de Edad que sobrevieron en Clase 2 ', round(((MenoresClass2/vivosClass2)*100),2), '%')\n",
        "print('Tercera Clase')\n",
        "print('Mayores de Edad que sobrevieron en Clase 3 ', round(((MayoresClass3/vivosClass3)*100),2), '%')\n",
        "print('Menores de Edad que sobrevieron en Clase 3 ', round(((MenoresClass3/vivosClass3)*100),2), '%')"
      ],
      "metadata": {
        "colab": {
          "base_uri": "https://localhost:8080/"
        },
        "id": "-K862VRCz8gt",
        "outputId": "68b1f71d-bc29-4ca2-f040-296e691cd786"
      },
      "execution_count": null,
      "outputs": [
        {
          "output_type": "stream",
          "name": "stdout",
          "text": [
            "Primera Clase\n",
            "Mayores de Edad que sobrevieron en Clase 1  79.41 %\n",
            "Menores de Edad que sobrevieron en Clase 1  8.09 %\n",
            "Segunda Clase\n",
            "Mayores de Edad que sobrevieron en Clase 2  68.97 %\n",
            "Menores de Edad que sobrevieron en Clase 2  24.14 %\n",
            "Tercera Clase\n",
            "Mayores de Edad que sobrevieron en Clase 3  43.7 %\n",
            "Menores de Edad que sobrevieron en Clase 3  24.37 %\n"
          ]
        }
      ]
    }
  ]
}